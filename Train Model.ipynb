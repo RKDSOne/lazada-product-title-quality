{
 "cells": [
  {
   "cell_type": "code",
   "execution_count": 4,
   "metadata": {
    "collapsed": false
   },
   "outputs": [],
   "source": [
    "import pandas as pd\n",
    "import gensim\n",
    "import re\n",
    "import numpy as np"
   ]
  },
  {
   "cell_type": "code",
   "execution_count": 5,
   "metadata": {
    "collapsed": false
   },
   "outputs": [],
   "source": [
    "headers = \"country,sku_id,title,category_lvl_1,category_lvl_2,category_lvl_3,short_description, price,product_type\".split(\",\")\n",
    "\n",
    "# Training data\n",
    "data_train = pd.read_csv(\"./data/training/data_train.csv\", names=headers)\n",
    "clarity_train = pd.read_csv(\"./data/training/clarity_train.labels\", names=['clarity_label'])\n",
    "conciseness_train = pd.read_csv(\"./data/training/conciseness_train.labels\", names=['conciseness_label'])\n",
    "\n",
    "data_train['clarity_label'] = clarity_train['clarity_label']\n",
    "data_train['conciseness_label'] = conciseness_train['conciseness_label']\n",
    "\n",
    "# Validation\n",
    "data_validate = pd.read_csv(\"./data/validation/data_valid.csv\", names=headers)"
   ]
  },
  {
   "cell_type": "code",
   "execution_count": 6,
   "metadata": {
    "collapsed": false
   },
   "outputs": [],
   "source": [
    "def repair_feature_dataframe(data_train, w2v_model, contain_label=False):\n",
    "    # Title cleaning\n",
    "    def clean_title(title):\n",
    "        title = title.lower()\n",
    "        title = title.replace(\"/\", \" / \")\n",
    "        title = re.sub(r\"[^A-z0-9\\s-]\", \"\", title)\n",
    "\n",
    "        return title\n",
    "\n",
    "    data_train['title_clean'] = data_train.title.apply(clean_title)\n",
    "    \n",
    "    selected_label = ['title_clean']\n",
    "    if contain_label:\n",
    "        selected_label += ['clarity_label', 'conciseness_label']\n",
    "    data_train = data_train[selected_label]\n",
    "    \n",
    "    # Word2vec title\n",
    "    def vector_title(title, w2v_model):\n",
    "        title = title.split(\" \")\n",
    "        vec = np.zeros(300)\n",
    "        for w in title:\n",
    "            try:\n",
    "                vec += w2v_model[w]\n",
    "            except:\n",
    "                pass\n",
    "\n",
    "        return vec\n",
    "\n",
    "    data_train['vector_title'] = data_train.title_clean.apply(lambda t: vector_title(t, w2v_model))\n",
    "    return data_train"
   ]
  },
  {
   "cell_type": "code",
   "execution_count": 7,
   "metadata": {
    "collapsed": true
   },
   "outputs": [],
   "source": [
    "w2v_model = gensim.models.KeyedVectors.load_word2vec_format('./GoogleNews-vectors-negative300.bin', binary=True)"
   ]
  },
  {
   "cell_type": "code",
   "execution_count": 8,
   "metadata": {
    "collapsed": false
   },
   "outputs": [
    {
     "name": "stderr",
     "output_type": "stream",
     "text": [
      "/home/duyetdev/.local/lib/python2.7/site-packages/ipykernel_launcher.py:29: SettingWithCopyWarning: \n",
      "A value is trying to be set on a copy of a slice from a DataFrame.\n",
      "Try using .loc[row_indexer,col_indexer] = value instead\n",
      "\n",
      "See the caveats in the documentation: http://pandas.pydata.org/pandas-docs/stable/indexing.html#indexing-view-versus-copy\n"
     ]
    }
   ],
   "source": [
    "data_train = repair_feature_dataframe(data_train, w2v_model, contain_label=True)"
   ]
  },
  {
   "cell_type": "code",
   "execution_count": 9,
   "metadata": {
    "collapsed": false
   },
   "outputs": [
    {
     "name": "stderr",
     "output_type": "stream",
     "text": [
      "/home/duyetdev/.local/lib/python2.7/site-packages/ipykernel_launcher.py:29: SettingWithCopyWarning: \n",
      "A value is trying to be set on a copy of a slice from a DataFrame.\n",
      "Try using .loc[row_indexer,col_indexer] = value instead\n",
      "\n",
      "See the caveats in the documentation: http://pandas.pydata.org/pandas-docs/stable/indexing.html#indexing-view-versus-copy\n"
     ]
    }
   ],
   "source": [
    "data_validate = repair_feature_dataframe(data_validate, w2v_model, contain_label=False)"
   ]
  },
  {
   "cell_type": "code",
   "execution_count": 10,
   "metadata": {
    "collapsed": false
   },
   "outputs": [
    {
     "data": {
      "text/html": [
       "<div>\n",
       "<table border=\"1\" class=\"dataframe\">\n",
       "  <thead>\n",
       "    <tr style=\"text-align: right;\">\n",
       "      <th></th>\n",
       "      <th>title_clean</th>\n",
       "      <th>clarity_label</th>\n",
       "      <th>conciseness_label</th>\n",
       "      <th>vector_title</th>\n",
       "    </tr>\n",
       "  </thead>\n",
       "  <tbody>\n",
       "    <tr>\n",
       "      <th>0</th>\n",
       "      <td>adana gallery suri square hijab  light pink</td>\n",
       "      <td>1</td>\n",
       "      <td>1</td>\n",
       "      <td>[-0.209838867188, -0.318603515625, 0.740234375...</td>\n",
       "    </tr>\n",
       "    <tr>\n",
       "      <th>1</th>\n",
       "      <td>cuba heartbreaker eau de parfum spray 100ml  33oz</td>\n",
       "      <td>1</td>\n",
       "      <td>1</td>\n",
       "      <td>[0.033447265625, -0.02001953125, 0.71508789062...</td>\n",
       "    </tr>\n",
       "    <tr>\n",
       "      <th>2</th>\n",
       "      <td>andoer 150cm cellphone smartphone mini dual-he...</td>\n",
       "      <td>1</td>\n",
       "      <td>0</td>\n",
       "      <td>[0.1669921875, -1.40698242188, -1.36212158203,...</td>\n",
       "    </tr>\n",
       "    <tr>\n",
       "      <th>3</th>\n",
       "      <td>anmyna complaint silky set  shampoo 520ml  con...</td>\n",
       "      <td>1</td>\n",
       "      <td>1</td>\n",
       "      <td>[-0.15185546875, 0.803344726562, -0.0489807128...</td>\n",
       "    </tr>\n",
       "    <tr>\n",
       "      <th>4</th>\n",
       "      <td>argital argiltubo green clay for face and body...</td>\n",
       "      <td>1</td>\n",
       "      <td>1</td>\n",
       "      <td>[0.155151367188, 0.319580078125, 1.06811523438...</td>\n",
       "    </tr>\n",
       "    <tr>\n",
       "      <th>5</th>\n",
       "      <td>asus tp300lj-dw004h transformer book flip 4gb ...</td>\n",
       "      <td>1</td>\n",
       "      <td>1</td>\n",
       "      <td>[-0.063232421875, 0.209411621094, 0.5410003662...</td>\n",
       "    </tr>\n",
       "    <tr>\n",
       "      <th>6</th>\n",
       "      <td>ng-40c ring-shaped 40w 3166lm 5400k macro phot...</td>\n",
       "      <td>1</td>\n",
       "      <td>1</td>\n",
       "      <td>[-0.204246520996, 0.407958984375, -0.41015625,...</td>\n",
       "    </tr>\n",
       "    <tr>\n",
       "      <th>7</th>\n",
       "      <td>buytra exfoliating peel foot mask 1pair</td>\n",
       "      <td>1</td>\n",
       "      <td>1</td>\n",
       "      <td>[0.027099609375, 1.09033203125, 0.050720214843...</td>\n",
       "    </tr>\n",
       "    <tr>\n",
       "      <th>8</th>\n",
       "      <td>cliptec occ121 slim flat usb 30 extension cabl...</td>\n",
       "      <td>1</td>\n",
       "      <td>1</td>\n",
       "      <td>[-0.136474609375, 0.530029296875, -0.563232421...</td>\n",
       "    </tr>\n",
       "    <tr>\n",
       "      <th>9</th>\n",
       "      <td>mcdonalds coke can glass limited edition 12oz ...</td>\n",
       "      <td>1</td>\n",
       "      <td>1</td>\n",
       "      <td>[-0.496246337891, 0.174072265625, -0.504882812...</td>\n",
       "    </tr>\n",
       "    <tr>\n",
       "      <th>10</th>\n",
       "      <td>elenxs stainless steel tea ball strainer mesh ...</td>\n",
       "      <td>1</td>\n",
       "      <td>1</td>\n",
       "      <td>[-0.882446289062, 1.43176269531, -0.4958496093...</td>\n",
       "    </tr>\n",
       "    <tr>\n",
       "      <th>11</th>\n",
       "      <td>7mm natural prehnite crystal braceletgreen</td>\n",
       "      <td>1</td>\n",
       "      <td>1</td>\n",
       "      <td>[-0.329711914062, -0.0443115234375, -0.2236328...</td>\n",
       "    </tr>\n",
       "    <tr>\n",
       "      <th>12</th>\n",
       "      <td>feelontop punk rock rhinestone star shape long...</td>\n",
       "      <td>1</td>\n",
       "      <td>1</td>\n",
       "      <td>[-0.0645523071289, 0.478454589844, -0.24694824...</td>\n",
       "    </tr>\n",
       "    <tr>\n",
       "      <th>13</th>\n",
       "      <td>fitbit charge wireless activity wristband blue...</td>\n",
       "      <td>1</td>\n",
       "      <td>1</td>\n",
       "      <td>[-0.47705078125, -1.32080078125, -0.392578125,...</td>\n",
       "    </tr>\n",
       "    <tr>\n",
       "      <th>14</th>\n",
       "      <td>foltene eyelash amp eyebrow treatment</td>\n",
       "      <td>1</td>\n",
       "      <td>1</td>\n",
       "      <td>[-0.436279296875, 0.722778320312, 0.3726806640...</td>\n",
       "    </tr>\n",
       "    <tr>\n",
       "      <th>15</th>\n",
       "      <td>hanyu men pu leather lace up cap-toe business ...</td>\n",
       "      <td>1</td>\n",
       "      <td>1</td>\n",
       "      <td>[0.0482177734375, -0.05029296875, -0.115539550...</td>\n",
       "    </tr>\n",
       "    <tr>\n",
       "      <th>16</th>\n",
       "      <td>jingle winner mens women skeleton rose gold st...</td>\n",
       "      <td>1</td>\n",
       "      <td>1</td>\n",
       "      <td>[-0.572067260742, 1.18762207031, -0.6793823242...</td>\n",
       "    </tr>\n",
       "    <tr>\n",
       "      <th>17</th>\n",
       "      <td>jianse cranes sky flight couple cloud hard bac...</td>\n",
       "      <td>1</td>\n",
       "      <td>1</td>\n",
       "      <td>[0.657165527344, 0.325836181641, -1.1905517578...</td>\n",
       "    </tr>\n",
       "    <tr>\n",
       "      <th>18</th>\n",
       "      <td>joylivecy universal lazy android mobile phone ...</td>\n",
       "      <td>0</td>\n",
       "      <td>0</td>\n",
       "      <td>[-0.222320556641, -0.714599609375, -1.13842773...</td>\n",
       "    </tr>\n",
       "    <tr>\n",
       "      <th>19</th>\n",
       "      <td>joop le bain soft moments eau de parfum spray ...</td>\n",
       "      <td>1</td>\n",
       "      <td>1</td>\n",
       "      <td>[-0.79541015625, 1.216796875, 0.791381835938, ...</td>\n",
       "    </tr>\n",
       "    <tr>\n",
       "      <th>20</th>\n",
       "      <td>juju milky emerald eye rhinestone cheetah stud</td>\n",
       "      <td>1</td>\n",
       "      <td>1</td>\n",
       "      <td>[0.4140625, 0.92919921875, -0.45361328125, 0.6...</td>\n",
       "    </tr>\n",
       "    <tr>\n",
       "      <th>21</th>\n",
       "      <td>kdk 16 wall fan remote nbsposcillation control...</td>\n",
       "      <td>1</td>\n",
       "      <td>1</td>\n",
       "      <td>[0.33251953125, 0.36572265625, -0.279052734375...</td>\n",
       "    </tr>\n",
       "    <tr>\n",
       "      <th>22</th>\n",
       "      <td>diy marble contact paper pvc removable wallpap...</td>\n",
       "      <td>1</td>\n",
       "      <td>1</td>\n",
       "      <td>[0.0660400390625, 0.64111328125, -0.8592376708...</td>\n",
       "    </tr>\n",
       "    <tr>\n",
       "      <th>23</th>\n",
       "      <td>5 units of korea soothing amp moisture 99 aloe...</td>\n",
       "      <td>0</td>\n",
       "      <td>0</td>\n",
       "      <td>[0.215698242188, 1.04174804688, -0.06945800781...</td>\n",
       "    </tr>\n",
       "    <tr>\n",
       "      <th>24</th>\n",
       "      <td>lenovo battery bl203 1500mah</td>\n",
       "      <td>1</td>\n",
       "      <td>1</td>\n",
       "      <td>[0.036865234375, 0.140625, 0.362884521484, -0....</td>\n",
       "    </tr>\n",
       "    <tr>\n",
       "      <th>25</th>\n",
       "      <td>luowan galaxy s7 edge case - silicone soft tpu...</td>\n",
       "      <td>1</td>\n",
       "      <td>1</td>\n",
       "      <td>[-0.00982666015625, 0.717102050781, -0.3872070...</td>\n",
       "    </tr>\n",
       "    <tr>\n",
       "      <th>26</th>\n",
       "      <td>prado2u lyy korean canvas crossbody bag flish ...</td>\n",
       "      <td>1</td>\n",
       "      <td>1</td>\n",
       "      <td>[0.096923828125, 0.0040283203125, -0.864257812...</td>\n",
       "    </tr>\n",
       "    <tr>\n",
       "      <th>27</th>\n",
       "      <td>morgan garment steamer msi-ga220b 1500w</td>\n",
       "      <td>1</td>\n",
       "      <td>1</td>\n",
       "      <td>[0.04638671875, 0.490112304688, -0.38671875, 0...</td>\n",
       "    </tr>\n",
       "    <tr>\n",
       "      <th>28</th>\n",
       "      <td>moonmini case for iphone 5 5s hot pink  blue c...</td>\n",
       "      <td>1</td>\n",
       "      <td>1</td>\n",
       "      <td>[-1.00048828125, 0.962768554688, 0.27673339843...</td>\n",
       "    </tr>\n",
       "    <tr>\n",
       "      <th>29</th>\n",
       "      <td>moonmini case for apple iphone 6 plus 55 inch ...</td>\n",
       "      <td>1</td>\n",
       "      <td>1</td>\n",
       "      <td>[-0.446601867676, 1.013671875, -0.021301269531...</td>\n",
       "    </tr>\n",
       "    <tr>\n",
       "      <th>...</th>\n",
       "      <td>...</td>\n",
       "      <td>...</td>\n",
       "      <td>...</td>\n",
       "      <td>...</td>\n",
       "    </tr>\n",
       "    <tr>\n",
       "      <th>36253</th>\n",
       "      <td>compatible high speed single usb port car char...</td>\n",
       "      <td>1</td>\n",
       "      <td>1</td>\n",
       "      <td>[0.253234863281, -0.141784667969, 0.0067138671...</td>\n",
       "    </tr>\n",
       "    <tr>\n",
       "      <th>36254</th>\n",
       "      <td>pro v8 bluetooth 40 stereo headset wireless ga...</td>\n",
       "      <td>1</td>\n",
       "      <td>0</td>\n",
       "      <td>[-0.702224731445, -2.60693359375, -2.656051635...</td>\n",
       "    </tr>\n",
       "    <tr>\n",
       "      <th>36255</th>\n",
       "      <td>5pcs 1g 1gb pc3200 ddr400 400mhz 333 266 deskt...</td>\n",
       "      <td>1</td>\n",
       "      <td>1</td>\n",
       "      <td>[0.279296875, -0.2529296875, -0.320556640625, ...</td>\n",
       "    </tr>\n",
       "    <tr>\n",
       "      <th>36256</th>\n",
       "      <td>terror sickle shinigami skull pu leather flip ...</td>\n",
       "      <td>1</td>\n",
       "      <td>1</td>\n",
       "      <td>[0.307556152344, 0.56689453125, 0.132080078125...</td>\n",
       "    </tr>\n",
       "    <tr>\n",
       "      <th>36257</th>\n",
       "      <td>mens short-sleeve cotton fashion classics t-sh...</td>\n",
       "      <td>1</td>\n",
       "      <td>0</td>\n",
       "      <td>[0.107177734375, 0.0703125, -0.604248046875, 1...</td>\n",
       "    </tr>\n",
       "    <tr>\n",
       "      <th>36258</th>\n",
       "      <td>jor simple shoe racks set of 4 beige</td>\n",
       "      <td>1</td>\n",
       "      <td>1</td>\n",
       "      <td>[0.2705078125, 0.276412963867, -0.3076171875, ...</td>\n",
       "    </tr>\n",
       "    <tr>\n",
       "      <th>36259</th>\n",
       "      <td>42cm fluffy round foam rug non slip showermat ...</td>\n",
       "      <td>1</td>\n",
       "      <td>0</td>\n",
       "      <td>[-1.18025970459, 0.455749511719, 0.16284179687...</td>\n",
       "    </tr>\n",
       "    <tr>\n",
       "      <th>36260</th>\n",
       "      <td>leisure watches antique watch sell like hot ca...</td>\n",
       "      <td>1</td>\n",
       "      <td>0</td>\n",
       "      <td>[0.456604003906, 0.378205776215, -0.0142059326...</td>\n",
       "    </tr>\n",
       "    <tr>\n",
       "      <th>36261</th>\n",
       "      <td>women loving heart digital surface silicone cr...</td>\n",
       "      <td>1</td>\n",
       "      <td>0</td>\n",
       "      <td>[-1.40893554688, 0.6630859375, 0.13427734375, ...</td>\n",
       "    </tr>\n",
       "    <tr>\n",
       "      <th>36262</th>\n",
       "      <td>ohsen children womens girls multi-function wat...</td>\n",
       "      <td>1</td>\n",
       "      <td>0</td>\n",
       "      <td>[-1.03465270996, 0.967124938965, 0.70440673828...</td>\n",
       "    </tr>\n",
       "    <tr>\n",
       "      <th>36263</th>\n",
       "      <td>video stabilizer support adjusted handle grip ...</td>\n",
       "      <td>1</td>\n",
       "      <td>1</td>\n",
       "      <td>[-0.381805419922, 0.667083740234, -0.809265136...</td>\n",
       "    </tr>\n",
       "    <tr>\n",
       "      <th>36264</th>\n",
       "      <td>digital optical coaxcoaxialtoslink to analog r...</td>\n",
       "      <td>1</td>\n",
       "      <td>1</td>\n",
       "      <td>[-0.667358398438, 0.466003417969, -0.470214843...</td>\n",
       "    </tr>\n",
       "    <tr>\n",
       "      <th>36265</th>\n",
       "      <td>protective dustproof case silicone cover for a...</td>\n",
       "      <td>1</td>\n",
       "      <td>1</td>\n",
       "      <td>[-1.22613525391, 0.570556640625, -0.66796875, ...</td>\n",
       "    </tr>\n",
       "    <tr>\n",
       "      <th>36266</th>\n",
       "      <td>frosted shuaishu shell protective cover for ht...</td>\n",
       "      <td>1</td>\n",
       "      <td>1</td>\n",
       "      <td>[-0.595275878906, 0.628936767578, -0.280090332...</td>\n",
       "    </tr>\n",
       "    <tr>\n",
       "      <th>36267</th>\n",
       "      <td>cyber fashion women o-neck sleeveless t shirt ...</td>\n",
       "      <td>0</td>\n",
       "      <td>0</td>\n",
       "      <td>[-0.404052734375, 0.978881835938, -1.119873046...</td>\n",
       "    </tr>\n",
       "    <tr>\n",
       "      <th>36268</th>\n",
       "      <td>women retro stand collar long sleeve zip up so...</td>\n",
       "      <td>1</td>\n",
       "      <td>1</td>\n",
       "      <td>[-0.4189453125, 0.758056640625, -0.12524414062...</td>\n",
       "    </tr>\n",
       "    <tr>\n",
       "      <th>36269</th>\n",
       "      <td>short man purse wallet mens cross wallet mens ...</td>\n",
       "      <td>1</td>\n",
       "      <td>0</td>\n",
       "      <td>[0.36669921875, 1.189453125, -0.634155273438, ...</td>\n",
       "    </tr>\n",
       "    <tr>\n",
       "      <th>36270</th>\n",
       "      <td>national wind autumn winters button long wool ...</td>\n",
       "      <td>1</td>\n",
       "      <td>0</td>\n",
       "      <td>[-1.16247558594, 2.1748046875, -1.41369628906,...</td>\n",
       "    </tr>\n",
       "    <tr>\n",
       "      <th>36271</th>\n",
       "      <td>1pc ceramic hair crimper crimping iron perm ha...</td>\n",
       "      <td>1</td>\n",
       "      <td>0</td>\n",
       "      <td>[-0.0938720703125, 1.33911132812, 0.2432479858...</td>\n",
       "    </tr>\n",
       "    <tr>\n",
       "      <th>36272</th>\n",
       "      <td>12pcs artificial bud stamen berry bacca flower...</td>\n",
       "      <td>1</td>\n",
       "      <td>1</td>\n",
       "      <td>[-0.880432128906, 0.720642089844, -1.239379882...</td>\n",
       "    </tr>\n",
       "    <tr>\n",
       "      <th>36273</th>\n",
       "      <td>3pcs  set bathroom non-slip blue ocean style p...</td>\n",
       "      <td>1</td>\n",
       "      <td>1</td>\n",
       "      <td>[0.279052734375, 1.58010864258, 0.515869140625...</td>\n",
       "    </tr>\n",
       "    <tr>\n",
       "      <th>36274</th>\n",
       "      <td>creative portable traveling foldable cloth han...</td>\n",
       "      <td>1</td>\n",
       "      <td>0</td>\n",
       "      <td>[0.364013671875, 1.74060058594, -1.8837890625,...</td>\n",
       "    </tr>\n",
       "    <tr>\n",
       "      <th>36275</th>\n",
       "      <td>hot sales milanese magnetic loop stainless ste...</td>\n",
       "      <td>1</td>\n",
       "      <td>0</td>\n",
       "      <td>[-0.769653320312, 0.757934570312, -0.158325195...</td>\n",
       "    </tr>\n",
       "    <tr>\n",
       "      <th>36276</th>\n",
       "      <td>philips hd3038 viva collection fuzzy logic ric...</td>\n",
       "      <td>1</td>\n",
       "      <td>1</td>\n",
       "      <td>[0.155883789062, 0.5986328125, 0.199462890625,...</td>\n",
       "    </tr>\n",
       "    <tr>\n",
       "      <th>36277</th>\n",
       "      <td>philips airfloss ultra hx8331</td>\n",
       "      <td>1</td>\n",
       "      <td>1</td>\n",
       "      <td>[0.0884399414062, -0.0400390625, -0.1567382812...</td>\n",
       "    </tr>\n",
       "    <tr>\n",
       "      <th>36278</th>\n",
       "      <td>sades k10 led backlit wired usb mechanical gam...</td>\n",
       "      <td>1</td>\n",
       "      <td>1</td>\n",
       "      <td>[0.344985961914, 0.381713867188, -0.9230804443...</td>\n",
       "    </tr>\n",
       "    <tr>\n",
       "      <th>36279</th>\n",
       "      <td>sona 20l electric oven seo 2220</td>\n",
       "      <td>1</td>\n",
       "      <td>1</td>\n",
       "      <td>[0.201568603516, 0.77197265625, 0.354995727539...</td>\n",
       "    </tr>\n",
       "    <tr>\n",
       "      <th>36280</th>\n",
       "      <td>op1001 portable wireless bluetooth 21 speaker ...</td>\n",
       "      <td>1</td>\n",
       "      <td>0</td>\n",
       "      <td>[-0.361511230469, -1.64181518555, -0.411315917...</td>\n",
       "    </tr>\n",
       "    <tr>\n",
       "      <th>36281</th>\n",
       "      <td>woot-woot tictactoe pillow case white</td>\n",
       "      <td>1</td>\n",
       "      <td>1</td>\n",
       "      <td>[0.058837890625, 0.14525604248, -0.01782226562...</td>\n",
       "    </tr>\n",
       "    <tr>\n",
       "      <th>36282</th>\n",
       "      <td>new smart wristband d21 smart bracelet heart r...</td>\n",
       "      <td>1</td>\n",
       "      <td>0</td>\n",
       "      <td>[-0.596832275391, -0.851684570312, -0.09387207...</td>\n",
       "    </tr>\n",
       "  </tbody>\n",
       "</table>\n",
       "<p>36283 rows × 4 columns</p>\n",
       "</div>"
      ],
      "text/plain": [
       "                                             title_clean  clarity_label  \\\n",
       "0            adana gallery suri square hijab  light pink              1   \n",
       "1      cuba heartbreaker eau de parfum spray 100ml  33oz              1   \n",
       "2      andoer 150cm cellphone smartphone mini dual-he...              1   \n",
       "3      anmyna complaint silky set  shampoo 520ml  con...              1   \n",
       "4      argital argiltubo green clay for face and body...              1   \n",
       "5      asus tp300lj-dw004h transformer book flip 4gb ...              1   \n",
       "6      ng-40c ring-shaped 40w 3166lm 5400k macro phot...              1   \n",
       "7                buytra exfoliating peel foot mask 1pair              1   \n",
       "8      cliptec occ121 slim flat usb 30 extension cabl...              1   \n",
       "9      mcdonalds coke can glass limited edition 12oz ...              1   \n",
       "10     elenxs stainless steel tea ball strainer mesh ...              1   \n",
       "11            7mm natural prehnite crystal braceletgreen              1   \n",
       "12     feelontop punk rock rhinestone star shape long...              1   \n",
       "13     fitbit charge wireless activity wristband blue...              1   \n",
       "14                 foltene eyelash amp eyebrow treatment              1   \n",
       "15     hanyu men pu leather lace up cap-toe business ...              1   \n",
       "16     jingle winner mens women skeleton rose gold st...              1   \n",
       "17     jianse cranes sky flight couple cloud hard bac...              1   \n",
       "18     joylivecy universal lazy android mobile phone ...              0   \n",
       "19     joop le bain soft moments eau de parfum spray ...              1   \n",
       "20        juju milky emerald eye rhinestone cheetah stud              1   \n",
       "21     kdk 16 wall fan remote nbsposcillation control...              1   \n",
       "22     diy marble contact paper pvc removable wallpap...              1   \n",
       "23     5 units of korea soothing amp moisture 99 aloe...              0   \n",
       "24                          lenovo battery bl203 1500mah              1   \n",
       "25     luowan galaxy s7 edge case - silicone soft tpu...              1   \n",
       "26     prado2u lyy korean canvas crossbody bag flish ...              1   \n",
       "27               morgan garment steamer msi-ga220b 1500w              1   \n",
       "28     moonmini case for iphone 5 5s hot pink  blue c...              1   \n",
       "29     moonmini case for apple iphone 6 plus 55 inch ...              1   \n",
       "...                                                  ...            ...   \n",
       "36253  compatible high speed single usb port car char...              1   \n",
       "36254  pro v8 bluetooth 40 stereo headset wireless ga...              1   \n",
       "36255  5pcs 1g 1gb pc3200 ddr400 400mhz 333 266 deskt...              1   \n",
       "36256  terror sickle shinigami skull pu leather flip ...              1   \n",
       "36257  mens short-sleeve cotton fashion classics t-sh...              1   \n",
       "36258               jor simple shoe racks set of 4 beige              1   \n",
       "36259  42cm fluffy round foam rug non slip showermat ...              1   \n",
       "36260  leisure watches antique watch sell like hot ca...              1   \n",
       "36261  women loving heart digital surface silicone cr...              1   \n",
       "36262  ohsen children womens girls multi-function wat...              1   \n",
       "36263  video stabilizer support adjusted handle grip ...              1   \n",
       "36264  digital optical coaxcoaxialtoslink to analog r...              1   \n",
       "36265  protective dustproof case silicone cover for a...              1   \n",
       "36266  frosted shuaishu shell protective cover for ht...              1   \n",
       "36267  cyber fashion women o-neck sleeveless t shirt ...              0   \n",
       "36268  women retro stand collar long sleeve zip up so...              1   \n",
       "36269  short man purse wallet mens cross wallet mens ...              1   \n",
       "36270  national wind autumn winters button long wool ...              1   \n",
       "36271  1pc ceramic hair crimper crimping iron perm ha...              1   \n",
       "36272  12pcs artificial bud stamen berry bacca flower...              1   \n",
       "36273  3pcs  set bathroom non-slip blue ocean style p...              1   \n",
       "36274  creative portable traveling foldable cloth han...              1   \n",
       "36275  hot sales milanese magnetic loop stainless ste...              1   \n",
       "36276  philips hd3038 viva collection fuzzy logic ric...              1   \n",
       "36277                      philips airfloss ultra hx8331              1   \n",
       "36278  sades k10 led backlit wired usb mechanical gam...              1   \n",
       "36279                    sona 20l electric oven seo 2220              1   \n",
       "36280  op1001 portable wireless bluetooth 21 speaker ...              1   \n",
       "36281              woot-woot tictactoe pillow case white              1   \n",
       "36282  new smart wristband d21 smart bracelet heart r...              1   \n",
       "\n",
       "       conciseness_label                                       vector_title  \n",
       "0                      1  [-0.209838867188, -0.318603515625, 0.740234375...  \n",
       "1                      1  [0.033447265625, -0.02001953125, 0.71508789062...  \n",
       "2                      0  [0.1669921875, -1.40698242188, -1.36212158203,...  \n",
       "3                      1  [-0.15185546875, 0.803344726562, -0.0489807128...  \n",
       "4                      1  [0.155151367188, 0.319580078125, 1.06811523438...  \n",
       "5                      1  [-0.063232421875, 0.209411621094, 0.5410003662...  \n",
       "6                      1  [-0.204246520996, 0.407958984375, -0.41015625,...  \n",
       "7                      1  [0.027099609375, 1.09033203125, 0.050720214843...  \n",
       "8                      1  [-0.136474609375, 0.530029296875, -0.563232421...  \n",
       "9                      1  [-0.496246337891, 0.174072265625, -0.504882812...  \n",
       "10                     1  [-0.882446289062, 1.43176269531, -0.4958496093...  \n",
       "11                     1  [-0.329711914062, -0.0443115234375, -0.2236328...  \n",
       "12                     1  [-0.0645523071289, 0.478454589844, -0.24694824...  \n",
       "13                     1  [-0.47705078125, -1.32080078125, -0.392578125,...  \n",
       "14                     1  [-0.436279296875, 0.722778320312, 0.3726806640...  \n",
       "15                     1  [0.0482177734375, -0.05029296875, -0.115539550...  \n",
       "16                     1  [-0.572067260742, 1.18762207031, -0.6793823242...  \n",
       "17                     1  [0.657165527344, 0.325836181641, -1.1905517578...  \n",
       "18                     0  [-0.222320556641, -0.714599609375, -1.13842773...  \n",
       "19                     1  [-0.79541015625, 1.216796875, 0.791381835938, ...  \n",
       "20                     1  [0.4140625, 0.92919921875, -0.45361328125, 0.6...  \n",
       "21                     1  [0.33251953125, 0.36572265625, -0.279052734375...  \n",
       "22                     1  [0.0660400390625, 0.64111328125, -0.8592376708...  \n",
       "23                     0  [0.215698242188, 1.04174804688, -0.06945800781...  \n",
       "24                     1  [0.036865234375, 0.140625, 0.362884521484, -0....  \n",
       "25                     1  [-0.00982666015625, 0.717102050781, -0.3872070...  \n",
       "26                     1  [0.096923828125, 0.0040283203125, -0.864257812...  \n",
       "27                     1  [0.04638671875, 0.490112304688, -0.38671875, 0...  \n",
       "28                     1  [-1.00048828125, 0.962768554688, 0.27673339843...  \n",
       "29                     1  [-0.446601867676, 1.013671875, -0.021301269531...  \n",
       "...                  ...                                                ...  \n",
       "36253                  1  [0.253234863281, -0.141784667969, 0.0067138671...  \n",
       "36254                  0  [-0.702224731445, -2.60693359375, -2.656051635...  \n",
       "36255                  1  [0.279296875, -0.2529296875, -0.320556640625, ...  \n",
       "36256                  1  [0.307556152344, 0.56689453125, 0.132080078125...  \n",
       "36257                  0  [0.107177734375, 0.0703125, -0.604248046875, 1...  \n",
       "36258                  1  [0.2705078125, 0.276412963867, -0.3076171875, ...  \n",
       "36259                  0  [-1.18025970459, 0.455749511719, 0.16284179687...  \n",
       "36260                  0  [0.456604003906, 0.378205776215, -0.0142059326...  \n",
       "36261                  0  [-1.40893554688, 0.6630859375, 0.13427734375, ...  \n",
       "36262                  0  [-1.03465270996, 0.967124938965, 0.70440673828...  \n",
       "36263                  1  [-0.381805419922, 0.667083740234, -0.809265136...  \n",
       "36264                  1  [-0.667358398438, 0.466003417969, -0.470214843...  \n",
       "36265                  1  [-1.22613525391, 0.570556640625, -0.66796875, ...  \n",
       "36266                  1  [-0.595275878906, 0.628936767578, -0.280090332...  \n",
       "36267                  0  [-0.404052734375, 0.978881835938, -1.119873046...  \n",
       "36268                  1  [-0.4189453125, 0.758056640625, -0.12524414062...  \n",
       "36269                  0  [0.36669921875, 1.189453125, -0.634155273438, ...  \n",
       "36270                  0  [-1.16247558594, 2.1748046875, -1.41369628906,...  \n",
       "36271                  0  [-0.0938720703125, 1.33911132812, 0.2432479858...  \n",
       "36272                  1  [-0.880432128906, 0.720642089844, -1.239379882...  \n",
       "36273                  1  [0.279052734375, 1.58010864258, 0.515869140625...  \n",
       "36274                  0  [0.364013671875, 1.74060058594, -1.8837890625,...  \n",
       "36275                  0  [-0.769653320312, 0.757934570312, -0.158325195...  \n",
       "36276                  1  [0.155883789062, 0.5986328125, 0.199462890625,...  \n",
       "36277                  1  [0.0884399414062, -0.0400390625, -0.1567382812...  \n",
       "36278                  1  [0.344985961914, 0.381713867188, -0.9230804443...  \n",
       "36279                  1  [0.201568603516, 0.77197265625, 0.354995727539...  \n",
       "36280                  0  [-0.361511230469, -1.64181518555, -0.411315917...  \n",
       "36281                  1  [0.058837890625, 0.14525604248, -0.01782226562...  \n",
       "36282                  0  [-0.596832275391, -0.851684570312, -0.09387207...  \n",
       "\n",
       "[36283 rows x 4 columns]"
      ]
     },
     "execution_count": 10,
     "metadata": {},
     "output_type": "execute_result"
    }
   ],
   "source": [
    "data_train"
   ]
  },
  {
   "cell_type": "markdown",
   "metadata": {
    "collapsed": true
   },
   "source": [
    "# Checkpoint training data"
   ]
  },
  {
   "cell_type": "code",
   "execution_count": 15,
   "metadata": {
    "collapsed": true
   },
   "outputs": [],
   "source": [
    "data_train.to_csv(\"./checkpoint/data_train.csv\", index=False)\n",
    "data_validate.to_csv(\"./checkpoint/data_validate.csv\", index=False)"
   ]
  },
  {
   "cell_type": "markdown",
   "metadata": {},
   "source": [
    "# SVM Model"
   ]
  },
  {
   "cell_type": "code",
   "execution_count": 12,
   "metadata": {
    "collapsed": true
   },
   "outputs": [],
   "source": [
    "from sklearn.model_selection import train_test_split\n",
    "from sklearn import svm\n",
    "from sklearn.metrics import accuracy_score"
   ]
  },
  {
   "cell_type": "markdown",
   "metadata": {},
   "source": [
    "## 1. SVC"
   ]
  },
  {
   "cell_type": "code",
   "execution_count": 13,
   "metadata": {
    "collapsed": false
   },
   "outputs": [],
   "source": [
    "X = data_train.vector_title.tolist()\n",
    "y_clarity_label = data_train.clarity_label.tolist()\n",
    "y_conciseness_label = data_train.conciseness_label.tolist()\n",
    "\n",
    "data_validate_input = data_validate.vector_title.tolist()"
   ]
  },
  {
   "cell_type": "code",
   "execution_count": 16,
   "metadata": {
    "collapsed": false
   },
   "outputs": [
    {
     "name": "stdout",
     "output_type": "stream",
     "text": [
      "Fitting ...\n",
      "Predict ...\n"
     ]
    }
   ],
   "source": [
    "clf_SVC_clarity = svm.SVC()\n",
    "clf_SVC_conciseness = svm.SVC()\n",
    "\n",
    "\n",
    "\n",
    "# clarity_label ===================\n",
    "# X_train, X_test, y_train, y_test = train_test_split(X, y_clarity_label, test_size=0.1, random_state=42)\n",
    "# clf_SVC_clarity.fit(X_train, y_train)\n",
    "print \"Fitting ...\"\n",
    "clf_SVC_clarity.fit(X, y_clarity_label)\n",
    "# y_pred = clf_SVC_clarity.predict(X_test)\n",
    "# print 'Accuracy clf_SVC_clarity = ', accuracy_score(y_test, y_pred)\n",
    "# Validation\n",
    "print \"Predict ...\"\n",
    "validate_result_clarity = clf_SVC_clarity.predict(data_validate_input)\n",
    "np.savetxt(\"submit/clarity_valid.predict\", validate_result_clarity, \"%.4f\")"
   ]
  },
  {
   "cell_type": "code",
   "execution_count": 17,
   "metadata": {
    "collapsed": false
   },
   "outputs": [
    {
     "name": "stdout",
     "output_type": "stream",
     "text": [
      "Fitting ...\n",
      "Predict ...\n"
     ]
    }
   ],
   "source": [
    "# conciseness_label ===================\n",
    "# X_train, X_test, y_train, y_test = train_test_split(X, y_conciseness_label, test_size=0.1, random_state=43)\n",
    "# clf_SVC.fit(X_train, y_train)\n",
    "# clf_SVC_clarity.fit(X_train, y_train)\n",
    "\n",
    "print \"Fitting ...\"\n",
    "clf_SVC_conciseness.fit(X, y_conciseness_label)\n",
    "# y_pred = clf_SVC_conciseness.predict(X_test)\n",
    "# print 'Accuracy clf_SVC_conciseness = ', accuracy_score(y_test, y_pred)\n",
    "\n",
    "# Validation\n",
    "print \"Predict ...\"\n",
    "validate_result_conciseness = clf_SVC_conciseness.predict(data_validate_input)\n",
    "\n",
    "np.savetxt(\"submit/conciseness_valid.predict\", validate_result_conciseness, \"%.4f\")"
   ]
  },
  {
   "cell_type": "code",
   "execution_count": null,
   "metadata": {
    "collapsed": false
   },
   "outputs": [],
   "source": []
  },
  {
   "cell_type": "markdown",
   "metadata": {},
   "source": [
    "## 2. Support Vector Regression"
   ]
  },
  {
   "cell_type": "code",
   "execution_count": null,
   "metadata": {
    "collapsed": false
   },
   "outputs": [],
   "source": [
    "clf_SVR_clarity = svm.SVR()\n",
    "clf_SVR_conciseness = svm.SVR()\n",
    "\n",
    "\n",
    "clf_SVR_clarity.fit(X, y_clarity_label)\n",
    "\n",
    "SVR_validate_result_conciseness = \n",
    "\n",
    "clf_SVR_conciseness.fit(X, y_conciseness_label)"
   ]
  },
  {
   "cell_type": "code",
   "execution_count": null,
   "metadata": {
    "collapsed": false
   },
   "outputs": [],
   "source": [
    "y_pred = clf_SVR.predict(X_test)\n",
    "accuracy_score(y_test, y_pred.round(), normalize=False)"
   ]
  },
  {
   "cell_type": "code",
   "execution_count": null,
   "metadata": {
    "collapsed": true
   },
   "outputs": [],
   "source": []
  },
  {
   "cell_type": "code",
   "execution_count": null,
   "metadata": {
    "collapsed": true
   },
   "outputs": [],
   "source": []
  },
  {
   "cell_type": "code",
   "execution_count": null,
   "metadata": {
    "collapsed": true
   },
   "outputs": [],
   "source": []
  },
  {
   "cell_type": "code",
   "execution_count": null,
   "metadata": {
    "collapsed": true
   },
   "outputs": [],
   "source": []
  },
  {
   "cell_type": "code",
   "execution_count": null,
   "metadata": {
    "collapsed": true
   },
   "outputs": [],
   "source": []
  },
  {
   "cell_type": "code",
   "execution_count": null,
   "metadata": {
    "collapsed": true
   },
   "outputs": [],
   "source": []
  },
  {
   "cell_type": "code",
   "execution_count": null,
   "metadata": {
    "collapsed": true
   },
   "outputs": [],
   "source": []
  },
  {
   "cell_type": "code",
   "execution_count": null,
   "metadata": {
    "collapsed": true
   },
   "outputs": [],
   "source": []
  },
  {
   "cell_type": "code",
   "execution_count": null,
   "metadata": {
    "collapsed": true
   },
   "outputs": [],
   "source": []
  },
  {
   "cell_type": "code",
   "execution_count": null,
   "metadata": {
    "collapsed": true
   },
   "outputs": [],
   "source": []
  },
  {
   "cell_type": "code",
   "execution_count": null,
   "metadata": {
    "collapsed": true
   },
   "outputs": [],
   "source": []
  },
  {
   "cell_type": "code",
   "execution_count": null,
   "metadata": {
    "collapsed": true
   },
   "outputs": [],
   "source": []
  },
  {
   "cell_type": "code",
   "execution_count": null,
   "metadata": {
    "collapsed": true
   },
   "outputs": [],
   "source": []
  },
  {
   "cell_type": "code",
   "execution_count": null,
   "metadata": {
    "collapsed": true
   },
   "outputs": [],
   "source": []
  },
  {
   "cell_type": "code",
   "execution_count": null,
   "metadata": {
    "collapsed": true
   },
   "outputs": [],
   "source": []
  },
  {
   "cell_type": "code",
   "execution_count": null,
   "metadata": {
    "collapsed": true
   },
   "outputs": [],
   "source": []
  },
  {
   "cell_type": "code",
   "execution_count": null,
   "metadata": {
    "collapsed": true
   },
   "outputs": [],
   "source": []
  },
  {
   "cell_type": "code",
   "execution_count": null,
   "metadata": {
    "collapsed": true
   },
   "outputs": [],
   "source": []
  },
  {
   "cell_type": "code",
   "execution_count": null,
   "metadata": {
    "collapsed": true
   },
   "outputs": [],
   "source": []
  },
  {
   "cell_type": "code",
   "execution_count": null,
   "metadata": {
    "collapsed": true
   },
   "outputs": [],
   "source": []
  },
  {
   "cell_type": "code",
   "execution_count": null,
   "metadata": {
    "collapsed": true
   },
   "outputs": [],
   "source": []
  }
 ],
 "metadata": {
  "kernelspec": {
   "display_name": "Python 2",
   "language": "python",
   "name": "python2"
  },
  "language_info": {
   "codemirror_mode": {
    "name": "ipython",
    "version": 2
   },
   "file_extension": ".py",
   "mimetype": "text/x-python",
   "name": "python",
   "nbconvert_exporter": "python",
   "pygments_lexer": "ipython2",
   "version": "2.7.13"
  }
 },
 "nbformat": 4,
 "nbformat_minor": 2
}
